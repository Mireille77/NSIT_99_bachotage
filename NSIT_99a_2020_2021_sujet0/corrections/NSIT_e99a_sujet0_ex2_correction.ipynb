{
 "cells": [
  {
   "cell_type": "markdown",
   "metadata": {},
   "source": [
    "<div style=\"width:100%;border-collapse:separate;border:solid 2px;border-radius:14px;\">\n",
    "    <div style=\"display:flex;\">\n",
    "        <div style=\"display:inline;width:5%;\"></div>\n",
    "        <div style=\"display:inline;width:15%;\">NSIT</div>\n",
    "        <div style=\"display:inline;width:15%;\">e99a</div>\n",
    "        <div style=\"display:inline;width:70%;text-align:right;\"><b>Bachotage</b></div>\n",
    "        <div style=\"display:inline;width:5%;\"></div>\n",
    "    </div>\n",
    "    <div  style=\"display: flex;background-color:#EEE\">\n",
    "        <p style=\"width:100%;text-align:center;\">Sujet 0: 2020-2021 </p>\n",
    "    </div>\n",
    "    <div  style=\"display: flex;\">\n",
    "        <p style=\"width:100%;text-align:center;\">Correction de l'exercice 2 : Optimisation d'un chemin dans un tableau</p>\n",
    "    </div>\n",
    "</div>"
   ]
  },
  {
   "cell_type": "markdown",
   "metadata": {},
   "source": [
    "<div class = \"alert alert-success\">\n",
    "    \n",
    "**Objectifs de la séquence:** \n",
    "- Proposer des programmes répondant aux questions de l'exercice 2: Cet exercice porte sur la programmation en général et la récursivité en particulier."
   ]
  },
  {
   "cell_type": "markdown",
   "metadata": {},
   "source": [
    "<div class = \"alert alert-info\">\n",
    "    \n",
    "**Sommaire :**\n",
    "\n",
    "<a href=#P>Présentation</a>  \n",
    "<a href=#Q1>Question 1:</a> Notion de chemin  \n",
    "<a href=#Q2>Question 2:</a> Force brute   \n",
    "<a href=#Q3>Question 3:</a> Tableau des sommes maximales T'  \n",
    "<a href=#Q4>Question 4:</a> Formule récursive de T'(i,j)  \n",
    "<a href=#Q5>Question 5:</a> Fonction récursive de T'(i,j)  \n",
    "<a href=#A1>Approfondissement 1:</a> Générateur de tableau     \n",
    "<a href=#A2>Approfondissement 2:</a> Approche récursive avec mémoïsation (bottom-down)  \n",
    "<a href=#A4>Approfondissement 3:</a> Comparaison des temps de calculs     \n",
    "<a href=#A4>Approfondissement 4:</a> Algorithme glouton  \n",
    "</div>"
   ]
  },
  {
   "cell_type": "markdown",
   "metadata": {},
   "source": [
    "<div id=\"P\"></div>\n",
    "\n",
    "## Présentation\n",
    "\n",
    "![ennonce_ex_2](https://github.com/ebuonocore/NSIT_99_bachotage/blob/main/NSIT_99a_2020_2021_sujet0/sources/ex_2_presentation.png?raw=true)\n",
    "\n",
    "\n",
    "<div id=\"Q1\"></div>\n",
    "\n",
    "## Question 1: Notion de chemin\n",
    "\n",
    "On considère tous les chemins allant de la case (0, 0) à la case (2, 3) du tableau T donné en exemple.\n",
    "1. Un tel chemin comprend nécessairement 3 déplacements vers la droite. Combien de déplacements vers le bas comprend-il ?\n",
    "\n",
    "<span style=\"color:green\">Pour aller de la case (0, 0) à la case (2, 3) on fait 3 déplacements vers la droite et 2 vers le bas.</span>\n",
    "\n",
    "2. La longueur d’un chemin est égal au nombre de cases de ce chemin. Justifier que tous les chemins\n",
    "allant de (0, 0) à (2, 3) ont une longueur égale à 6.\n",
    "\n",
    "<span style=\"color:green\">\n",
    "Comme on fait des déplacements de 1 pas à chaque étape, il faut faire 2 + 3 = 5 déplacements.  \n",
    "Chaque déplacement nous amène sur une nouvelle case.  \n",
    "En n’oubliant pas d’inclure la case (0, 0) il faut donc parcourir 2 + 3 + 1 = 6 cases.</span>"
   ]
  },
  {
   "cell_type": "markdown",
   "metadata": {},
   "source": [
    "<div id=\"Q2\"></div>\n",
    "\n",
    "## Question 2: Force brute\n",
    "En listant tous les chemins possibles allant de (0, 0) à (2, 3) du tableau T, déterminer un chemin qui permet d’obtenir la somme maximale et la valeur de cette somme.  \n",
    "<span style=\"color:green\">\n",
    "On peut donc voir chaque chemin comme un mot binaire de 5 bits.(Chaque bit correspond à l'un des 5 déplacements)<br>\n",
    "On  choisit arbitrairement de représenter le déplacement  vers la droite par un 0 et vers le bas par un 1.<br>\n",
    "Par exemple 001001 correspond au chemin de l'exemple de l'énoncé.<br>\n",
    "Pour ne pas en oublier, on peut énumérer toutes les combinaisons bianires sur 6 bits ne contenant que deux 1</span>"
   ]
  },
  {
   "cell_type": "code",
   "execution_count": 11,
   "metadata": {},
   "outputs": [],
   "source": [
    "T = [ [4, 1, 1, 3],\n",
    "      [2, 0, 2, 1],\n",
    "      [3, 1, 5, 1]]"
   ]
  },
  {
   "cell_type": "code",
   "execution_count": 12,
   "metadata": {},
   "outputs": [
    {
     "name": "stdout",
     "output_type": "stream",
     "text": [
      "→→→↓↓ (0,0),(0,1),(0,2),(0,3),(1,3),(2,3) 11\n",
      "→→↓→↓ (0,0),(0,1),(0,2),(1,2),(1,3),(2,3) 10\n",
      "→↓→→↓ (0,0),(0,1),(1,1),(1,2),(1,3),(2,3) 9\n",
      "↓→→→↓ (0,0),(1,0),(1,1),(1,2),(1,3),(2,3) 10\n",
      "→→↓↓→ (0,0),(0,1),(0,2),(1,2),(2,2),(2,3) 14\n",
      "→↓→↓→ (0,0),(0,1),(1,1),(1,2),(2,2),(2,3) 13\n",
      "↓→→↓→ (0,0),(1,0),(1,1),(1,2),(2,2),(2,3) 14\n",
      "→↓↓→→ (0,0),(0,1),(1,1),(2,1),(2,2),(2,3) 12\n",
      "↓→↓→→ (0,0),(1,0),(1,1),(2,1),(2,2),(2,3) 13\n",
      "↓↓→→→ (0,0),(1,0),(2,0),(2,1),(2,2),(2,3) 16\n"
     ]
    }
   ],
   "source": [
    "fleches = (chr(0x2192), chr(0x2193)) # Désigne les caractères flèche droite et flèche bas\n",
    "\n",
    "for dernier_bas in range(4,0,-1):\n",
    "    for premier_bas in range(dernier_bas-1, -1, -1):\n",
    "        chemin = [0]*5\n",
    "        chemin[dernier_bas]=1\n",
    "        chemin[premier_bas]=1\n",
    "        # chemin désigne le mot de 6 bits correspondant à la succession des directions\n",
    "        somme = T[0][0] # Initatilisation de la somme de ce chemin à la valeur de T[0][0]\n",
    "        chemin_fleches = \"\" # Chaîne de caractères décrivant le chemin par des flèches\n",
    "        chemin_str = \"(0,0)\" # Chaîne de caractères décrivant la succession de tuples\n",
    "        i, j = 0,0 # (0,0) désigne l'origine du chemin\n",
    "        for direction in chemin:\n",
    "            if direction == 0: # Si on doit aller à droite\n",
    "                j += 1\n",
    "            else:\n",
    "                i += 1\n",
    "            chemin_fleches += fleches[direction]\n",
    "            chemin_str += \",(\"+str(i)+\",\"+str(j)+\")\"\n",
    "            somme += T[i][j]\n",
    "        print(chemin_fleches, chemin_str, somme)"
   ]
  },
  {
   "cell_type": "markdown",
   "metadata": {},
   "source": [
    "<span style=\"color:green\">\n",
    "La somme maximale de 16 est atteinte en passant par le dernier chemin de cette liste: (0,0),(1,0),(2,0),(2,1),(2,2),(2,3)</span>"
   ]
  },
  {
   "cell_type": "markdown",
   "metadata": {},
   "source": [
    "<div id=\"Q3\"></div>\n",
    "\n",
    "## Question 3:  Tableau des sommes maximales \n",
    "\n",
    "On veut créer le tableau T’ où chaque élément T’[i][j] est la somme maximale pour tous les\n",
    "chemins possibles allant de (0, 0) à (i, j).\n",
    "1. Compléter et recopier sur votre copie le tableau T’ donné ci-dessous associé au tableau\n",
    "![ennonce_ex_3](https://github.com/ebuonocore/NSIT_99_bachotage/blob/main/NSIT_99a_2020_2021_sujet0/sources/ex_2_q3.png?raw=true)"
   ]
  },
  {
   "cell_type": "markdown",
   "metadata": {},
   "source": [
    "<span style=\"color:green\">\n",
    "Chemins optimisants la somme pour les cases à compléter:<br>\n",
    "→→→ (0,0),(0,1),(0,2),(0,3) Somme = 4 + 1 + 1 + 3 = 9<br>\n",
    "↓→→ (0,0),(1,0),(1,1) Somme = 4 + 2 + 0 = 6<br>\n",
    "↓↓→→ (0,0),(1,0),(2,0),(2,1),(2,2) Somme = 4 + 2 + 3 + 1 + 5 = 15</span>"
   ]
  },
  {
   "cell_type": "markdown",
   "metadata": {},
   "source": [
    "![ennonce_ex_3_tableau_complet](https://github.com/ebuonocore/NSIT_99_bachotage/blob/main/NSIT_99a_2020_2021_sujet0/sources/ex_2_q3_complet.png?raw=true)\n",
    "\n",
    "2. Justifier que si j est différent de 0, alors : T’ [ 0 ][ j ] = T [ 0 ][ j ] + T’ [ 0 ][ j-1 ]  \n",
    "\n",
    "<span style=\"color:green\">\n",
    "La valeur T'[0][j] où j est non nul correspond à la somme des cases (0, 0) à (0, j), c’est à dire des cases de la première ligne du tableau.<br>\n",
    "    Il n’y a <b>qu’un seul chemin</b> qui corresponde à cette somme et il passe obligatoirement par la case à gauche (d’indice j-1) de la case (0, j).<br>\n",
    "Donc pour calculer la somme T'[0][j] on ajoute simplement la valeur de la case (0, j) (c’est à dire T[0][j]) à la somme obtenue à la case précédente (c’est à dire T'[0][j-1]). On a donc bien T'[0][j] = T[0][j]+T'[0][j-1].\n",
    "</span>"
   ]
  },
  {
   "cell_type": "markdown",
   "metadata": {},
   "source": [
    "<div id=\"Q4\"></div>\n",
    "\n",
    "## Question 4:  Formule récursive de T'[i][j]\n",
    "\n",
    "Justifier que si i et j sont différents de 0, alors :  \n",
    "T’ [ i ][ j ] = T [ i ][ j ] + max(T’ [ i-1 ][ j ], T’ [ i ][ j-1 ]).  \n",
    "\n",
    "<span style=\"color:green\">\n",
    "<u>Si i et j son non-nuls</u>, il y a deux chemins amenant à la case (i, j).<br>\n",
    "Le premier provient de la case du dessus (i − 1, j), le second de la case de gauche (i, j − 1).<br>\n",
    "La valeur de T'[i][j] s’obtient donc en ajoutant la valeur de T[i][j] au maximum des deux chemins menant\n",
    "à cette case : max(T'[i-1][j],T'[i][j-1]).<br>\n",
    "Par exemple: <br>\n",
    "T’ [2][1] = T [2][1] + max(T’ [1][1], T’ [2][0])<br>\n",
    "Soit T’ [2][1] = 1 + max(6, 9) = 10</span>"
   ]
  },
  {
   "cell_type": "markdown",
   "metadata": {},
   "source": [
    "<div id=\"Q5\"></div>\n",
    "\n",
    "## Question 5:  Fonction récursive de T'[i][j]\n",
    "\n",
    "On veut créer la fonction récursive <code>somme_max_rec</code> ayant pour paramètres un tableau T, un entier i et un entier j.  \n",
    "Cette fonction renvoie la somme maximale pour tous les chemins possibles allant\n",
    "de la case (0, 0) à la case (i, j).  \n",
    "\n",
    "1.Quel est le cas de base, à savoir le cas qui est traité directement sans faire appel à la fonction <code>somme_max_rec</code> ?  \n",
    "Que renvoie-t-on dans ce cas ?\n",
    "\n",
    "<span style=\"color:blue\">\n",
    "Il peut être intéressant de faire un schéma pour se représenter les opérations effectuées lors des appels récursifs.<br>\n",
    "Pour gagner du temps le jour de l'épreuve, il ne vaut mieux pas se lancer sur la représentation du problème dans son intégralité.<br>\n",
    "Si on se limite à un premier calcul de T'[1][2], on obtient alors un arbre des appels récursifs lancés depuis la case (1,2):\n",
    "</span>\n",
    "\n",
    "![ennonce_ex_3_tableau_complet](https://github.com/ebuonocore/NSIT_99_bachotage/blob/main/NSIT_99a_2020_2021_sujet0/sources/ex_2_q5_T.png?raw=true)"
   ]
  },
  {
   "cell_type": "markdown",
   "metadata": {},
   "source": [
    "<span style=\"color:blue\">\n",
    "L'expression de T'[i][j] vue à la question 4 est conditionnée au fait que i et j ne soient pas nuls. Et, en effet, si c'est le cas, on sort du tableau: Ce que l'on voit ci-dessus avec la flèche en pointillés bleus.<br>\n",
    "Quelques appels récursifs sont représentés par des flèches dans le tableau ci-dessus, et par des arêtes colorées ci-dessous.<br>   \n",
    "\n",
    "L'arbre des appels récursifs ci-dessous montre bien que:<br>\n",
    "- Certaines cases lancent 2 appels récursifs : cases (1,2), (1,1)<br>\n",
    "- D'autres un seul : cases (0,2), (0,1)...<br>\n",
    "- La case initiale du chemin (0,0) ne lance aucun appel<br>\n",
    "\n",
    "En remontant de chaque feuille vers la racine, nous retrouvons les 3 chemins possibles depuis (0,0) vers (1,2)</span>"
   ]
  },
  {
   "cell_type": "markdown",
   "metadata": {},
   "source": [
    "![ennonce_ex_3_tableau_complet](https://github.com/ebuonocore/NSIT_99_bachotage/blob/main/NSIT_99a_2020_2021_sujet0/sources/ex_2_q5_appels_rec_1_2_col.png?raw=true)\n",
    "\n",
    "<span style=\"color:blue\">\n",
    "Pour aller un peu plus loin, voilà l'arbre des appels récursifs lancé depuis la case (2,3).<br>\n",
    "On y retrouve les 10 branches correspondant aux 10 chemins possibles.<br>\n",
    "On voit aussi que l'appel de T'[1][2] est fait 2 fois et T'[0][1] est calculé 6 fois.<br>\n",
    "Nous en reparlerons plus loin...\n",
    "</span>\n",
    "\n",
    "![ennonce_ex_3_tableau_complet](https://github.com/ebuonocore/NSIT_99_bachotage/blob/main/NSIT_99a_2020_2021_sujet0/sources/ex_2_q5_appels_rec_2_3_pointeurs.png?raw=true)\n",
    "\n",
    "<span style=\"color:green\">\n",
    "Lorsque i=0 et j=0, il n'y aura pas d'autre appel récursif: T'[0][0] est donc le cas de base.<br>\n",
    "somme_max_rec(0,0) = T[0][0]<br>\n",
    "Dans cet exemple: somme_max_rec(0,0) = 4\n",
    "</span>\n",
    "\n",
    "2. À l’aide de la question précédente, écrire en Python la fonction récursive <code>somme_max_rec</code> ."
   ]
  },
  {
   "cell_type": "code",
   "execution_count": 5,
   "metadata": {},
   "outputs": [],
   "source": [
    "def somme_max_rec(T:list, i:int, j:int)->int:\n",
    "    \"\"\" Renvoie la somme maximum des différents chemins obtenu par appels récursifs\n",
    "    \"\"\"\n",
    "    if i == 0 and j == 0:\n",
    "        return T[0][0] # Cas de base\n",
    "    elif i == 0 : # Première ligne:Un seul appel récursif vers la case de gauche\n",
    "        return T[0][j] + somme_max_rec(T,0,j-1)\n",
    "    elif j == 0 : # Première colonne: Un seul appel récursif vers la case du dessus\n",
    "        return T[i][0] + somme_max_rec(T,i-1,0)\n",
    "    else : # Cas générale\n",
    "        return T[i][j] + max(somme_max_rec(T,i-1,j), somme_max_rec(T,i,j-1))"
   ]
  },
  {
   "cell_type": "markdown",
   "metadata": {},
   "source": [
    "3. Quel appel de fonction doit-on faire pour résoudre le problème initial ?"
   ]
  },
  {
   "cell_type": "code",
   "execution_count": 43,
   "metadata": {},
   "outputs": [
    {
     "data": {
      "text/plain": [
       "130"
      ]
     },
     "execution_count": 43,
     "metadata": {},
     "output_type": "execute_result"
    }
   ],
   "source": [
    "somme_max_rec(T, 2, 3)"
   ]
  },
  {
   "cell_type": "markdown",
   "metadata": {},
   "source": [
    "<div id=\"A1\"></div>\n",
    "\n",
    "## Approfondissement 1: Générateur de tableau\n",
    "\n",
    "On veut créer la fonction <code>creer_tableau</code> qui génère un tableau d'entiers aléatoirment.  \n",
    "<code>creer_tableau</code> prend 3 paramètres:  \n",
    "- nb_lignes: Nombre de lignes du tableau  \n",
    "- nb_colonnes: Nombre de colonnes du tableau  \n",
    "- valeur_max: Chaque valeur est tirée au hasard entre 0 et valeur_max"
   ]
  },
  {
   "cell_type": "code",
   "execution_count": 3,
   "metadata": {},
   "outputs": [
    {
     "data": {
      "text/plain": [
       "[[11, 22, 6, 8, 22, 19, 1, 30, 15, 2, 4, 22, 27, 21, 11, 3, 25, 26, 1, 27],\n",
       " [19, 11, 29, 25, 26, 19, 24, 24, 21, 11, 8, 29, 10, 18, 13, 8, 4, 7, 22, 21],\n",
       " [11, 24, 12, 10, 2, 2, 12, 20, 26, 29, 12, 9, 5, 18, 18, 18, 19, 28, 14, 2],\n",
       " [19, 19, 9, 2, 29, 7, 11, 29, 14, 13, 23, 25, 29, 18, 9, 2, 5, 4, 23, 22],\n",
       " [23, 9, 7, 30, 4, 11, 2, 10, 22, 18, 27, 16, 13, 8, 24, 28, 29, 2, 15, 24],\n",
       " [14, 18, 26, 12, 12, 1, 8, 27, 17, 16, 6, 17, 5, 2, 23, 16, 20, 12, 21, 19],\n",
       " [5, 23, 17, 7, 19, 13, 3, 17, 16, 6, 12, 11, 17, 1, 19, 26, 4, 18, 16, 16],\n",
       " [18, 13, 26, 5, 5, 29, 16, 26, 21, 30, 12, 30, 25, 23, 14, 3, 29, 17, 15, 29],\n",
       " [29, 12, 4, 9, 18, 29, 6, 23, 30, 26, 3, 7, 17, 20, 6, 23, 5, 17, 5, 30],\n",
       " [4, 22, 7, 30, 4, 22, 5, 30, 9, 15, 7, 18, 7, 22, 4, 21, 10, 27, 10, 30]]"
      ]
     },
     "execution_count": 3,
     "metadata": {},
     "output_type": "execute_result"
    }
   ],
   "source": [
    "import random as rd\n",
    "\n",
    "def creer_tableau(nb_lignes:int, nb_colonnes:int, valeur_max:int)->list:\n",
    "    \"\"\" Renvoie un tableau de (nb_lignes * nb_colonnes) d'entiers tirés au hasard \n",
    "        entre 1 et valeur_max\n",
    "    \"\"\"\n",
    "    L = []\n",
    "    for i in range(nb_lignes):\n",
    "        L.append([]) # Créé la i-ème ligne vide\n",
    "        for j in range(nb_colonnes):\n",
    "            valeur = rd.randint(0, valeur_max) # Tire la valeur au hasard\n",
    "            L[i].append(valeur) # Ajouter la valeur à la i-ème ligne\n",
    "    return L\n",
    "\n",
    "def creer_tableau_en_comprehension(nb_lignes:int, nb_colonnes:int, valeur_max:int)->list:\n",
    "    \"\"\" Renvoie un tableau de (nb_lignes * nb_colonnes) d'entiers tirés au hasard \n",
    "        entre 1 et valeur_max\n",
    "    \"\"\"\n",
    "    return [[rd.randint(1, valeur_max) for j in range(nb_colonnes)] for i in range(nb_lignes)]\n",
    "\n",
    "\n",
    "T =  creer_tableau_en_comprehension(10, 20, 30)    \n",
    "T # Affiche le tableau généré"
   ]
  },
  {
   "cell_type": "markdown",
   "metadata": {},
   "source": [
    "<div id=\"A2\"></div>\n",
    "\n",
    "## Approfondissement 2:  Approche récursive avec mémoïsation (bottom-down)\n",
    "\n",
    "L'idée est de **stocker dans un tableau annexe toutes les valeurs déjà calculées** une fois pour ne pas recommencer !\n",
    "\n",
    "**On conserve l'approche descendante de la récursivité** : la solution globale fait appel au fur et à mesure aux solutions des sous-problèmes (en vérifiant si une valeur n'a pas déjà été mémorisée avant de se lancer dans le calcul récursif).\n",
    "\n",
    "Pour rappel, voila une représentation des appels réursifs sur le tableau inital T:\n",
    "\n",
    "![arbre_appe1s_sans_memoisation](https://github.com/ebuonocore/NSIT_99_bachotage/blob/main/NSIT_99a_2020_2021_sujet0/sources/ex_2_a1_appels_rec_2_3_sans_memoisation.png?raw=true)\n",
    "\n",
    "Ci dessous, une représentation de la résolution du même problème avec mémoïsation:\n",
    "![arbre_appe1s_avec_memoisation](https://github.com/ebuonocore/NSIT_99_bachotage/blob/main/NSIT_99a_2020_2021_sujet0/sources/ex_2_a1_appels_rec_2_3_avec_memoisation.png?raw=true)"
   ]
  },
  {
   "cell_type": "markdown",
   "metadata": {},
   "source": [
    "On voit par exemple que T'[1][2] n'est calculé qu'une seule fois.  \n",
    "Toutes les cases ne sont calculées qu'une seule fois.. d'ailleurs, il y a 3*4 cases dans notre tableau.  \n",
    "Et il y a 12 noeuds dans cet arbre.  \n",
    "Compléter le programme ci-dessous:  \n",
    "- Compléter le cas de base de la fonction somme_max_memo. \n",
    "- Dans la fonction somme_max_memoisation, créer un tableau memoire ne contenant que des None de la même taille que T."
   ]
  },
  {
   "cell_type": "code",
   "execution_count": 6,
   "metadata": {},
   "outputs": [
    {
     "name": "stdout",
     "output_type": "stream",
     "text": [
      "Calcul sans mémoïsation: 70\n",
      "Calcul avec mémoïsation: 70\n"
     ]
    },
    {
     "data": {
      "text/plain": [
       "[[2, 1, 2, 1, 3, 4, 9, 9],\n",
       " [1, 7, 7, 5, 7, 6, 2, 7],\n",
       " [3, 1, 2, 3, 1, 7, 8, 5],\n",
       " [9, 6, 5, 6, 5, 5, 3, 4],\n",
       " [3, 3, 6, 4, 7, 1, 1, 3],\n",
       " [6, 1, 1, 2, 4, 1, 2, 8]]"
      ]
     },
     "execution_count": 6,
     "metadata": {},
     "output_type": "execute_result"
    }
   ],
   "source": [
    "def somme_max_memo(T:list, i:int, j:int, memoire:list)->list:\n",
    "    \"\"\" Renvoie la somme maximum des différents chemins obtenu par appels récursifs\n",
    "        Si une valeur a déjà été calculée et mémorisée dans le tableau memoire,\n",
    "        elle est renvoyée directement sans faire d'autres appels récursifs.\n",
    "    \"\"\"\n",
    "    if memoire[i][j] is not None:\n",
    "        return memoire[i][j]\n",
    "    if i == j == 0:\n",
    "        memoire[0][0] = T[0][0]\n",
    "        return memoire[0][0]\n",
    "    elif i == 0:\n",
    "        memoire[0][j] = T[0][j] + somme_max_memo(T, 0, j-1, memoire)\n",
    "    elif j == 0:\n",
    "        memoire[i][0] = T[i][0] + somme_max_memo(T, i-1, 0, memoire)\n",
    "    else:\n",
    "        gauche = somme_max_memo(T, i, j-1, memoire)\n",
    "        haut = somme_max_memo(T, i-1, j, memoire)\n",
    "        memoire[i][j] = T[i][j] + max(gauche, haut)\n",
    "    return memoire[i][j]\n",
    "\n",
    "def somme_max_memoisation(T:list, i:int, j:int)->int:\n",
    "    \"\"\" Construit le tableau memoire de même dimensions que T\n",
    "        A l'initialisation, toutes les valeurs de memoire sont à None\n",
    "        Appel somme_max_memo() pour calculer et renvoyer la somme correspondant au chemin optimal \n",
    "    \"\"\"\n",
    "    memoire = [[None for j in range(len(T[0]))] for i in range(len(T))]\n",
    "    return somme_max_memo(T, i, j, memoire)\n",
    "\n",
    "# Test: Caculs de T'[5][7] avec ou sans mémoïsation\n",
    "T =  creer_tableau(6, 8, 9) \n",
    "print(\"Calcul sans mémoïsation:\",somme_max_rec(T, 5, 7))\n",
    "print(\"Calcul avec mémoïsation:\",somme_max_memoisation(T, 5, 7))\n",
    "T"
   ]
  },
  {
   "cell_type": "markdown",
   "metadata": {},
   "source": [
    "<div id=\"A3\"></div>\n",
    "\n",
    "## Approfondissement 3: Comparaison des temps de calculs\n",
    "\n",
    "Pour des tableaux de plus grandes tailles, nous allons comparer les temps de résolution des problèmes avec ou sans mémoïsation.  \n",
    "Commencez avec des tableaux de 10*10, puis poussez un peu plus loin tant que le temps de calcul est 'raisonnable' selon votre machine."
   ]
  },
  {
   "cell_type": "code",
   "execution_count": 12,
   "metadata": {},
   "outputs": [
    {
     "name": "stdout",
     "output_type": "stream",
     "text": [
      "16.3 s ± 120 ms per loop (mean ± std. dev. of 7 runs, 1 loop each)\n"
     ]
    }
   ],
   "source": [
    "T =  creer_tableau(10, 10, 9) \n",
    "%timeit somme_max_rec(T, 9, 9)"
   ]
  },
  {
   "cell_type": "code",
   "execution_count": 11,
   "metadata": {},
   "outputs": [
    {
     "name": "stdout",
     "output_type": "stream",
     "text": [
      "121 µs ± 2.79 µs per loop (mean ± std. dev. of 7 runs, 10000 loops each)\n"
     ]
    }
   ],
   "source": [
    "%timeit somme_max_memoisation(T, 9, 9)"
   ]
  },
  {
   "cell_type": "markdown",
   "metadata": {},
   "source": [
    "<div id=\"A4\"></div>\n",
    "\n",
    "## Approfondissement 4: Algorithme glouton\n",
    "\n",
    "Avec un algorithme glouton, on espère construire une solution **optimale globale** par la \n",
    "succession d’**optimum locaux**.  \n",
    "![glouton_trop_mignon](https://github.com/ebuonocore/NSIT_99_bachotage/blob/main/NSIT_99a_2020_2021_sujet0/sources/ex_2_a3_glouton.png?raw=true)\n"
   ]
  },
  {
   "cell_type": "markdown",
   "metadata": {},
   "source": [
    "Le critère local d'optimisation retenu est de s'orienter vers la cellule la plus \"grosse\" à chaque carrefour.  \n",
    "Ecriver la fonction <code>somme_max_glouton</code>"
   ]
  },
  {
   "cell_type": "code",
   "execution_count": 16,
   "metadata": {},
   "outputs": [
    {
     "data": {
      "text/plain": [
       "101"
      ]
     },
     "execution_count": 16,
     "metadata": {},
     "output_type": "execute_result"
    }
   ],
   "source": [
    "def somme_max_glouton(T:list, i:int, j:int):\n",
    "    \"\"\" Recherche un chemin optimum selon un algorithme glouton.\n",
    "        Critère d'optimisation: On prend systématiquement la case en bas ou à droite \n",
    "        qui a le plus gros score\n",
    "    \"\"\"\n",
    "    s = T[0][0] # Initialise la somme avec la valeur de la case de départ\n",
    "    m, n = 0, 0 # Initialise l'indice de la colonne et de la ligne courante\n",
    "    while (n != len(T) - 1) or (m != len(T[0]) - 1):\n",
    "        if m == len(T[0]) - 1:\n",
    "            n += 1\n",
    "        elif n == len(T) - 1:\n",
    "            m += 1\n",
    "        elif T[n][m+1] > T[n+1][m]:\n",
    "            m += 1\n",
    "        else:\n",
    "            n += 1\n",
    "        s += T[n][m]\n",
    "    return s\n",
    "\n",
    "T =  creer_tableau(10, 10, 9) \n",
    "somme_max_glouton(T, 9, 9)"
   ]
  },
  {
   "cell_type": "code",
   "execution_count": 27,
   "metadata": {},
   "outputs": [
    {
     "name": "stdout",
     "output_type": "stream",
     "text": [
      "73.2 ms ± 2.28 ms per loop (mean ± std. dev. of 7 runs, 10 loops each)\n"
     ]
    },
    {
     "data": {
      "text/plain": [
       "129"
      ]
     },
     "execution_count": 27,
     "metadata": {},
     "output_type": "execute_result"
    }
   ],
   "source": [
    "T =  creer_tableau(10, 10, 9) \n",
    "%timeit somme_max_rec(T, 9, 9)\n",
    "somme_max_rec(T, 9, 9)"
   ]
  },
  {
   "cell_type": "code",
   "execution_count": 28,
   "metadata": {},
   "outputs": [
    {
     "name": "stdout",
     "output_type": "stream",
     "text": [
      "13.4 µs ± 288 ns per loop (mean ± std. dev. of 7 runs, 100000 loops each)\n"
     ]
    },
    {
     "data": {
      "text/plain": [
       "122"
      ]
     },
     "execution_count": 28,
     "metadata": {},
     "output_type": "execute_result"
    }
   ],
   "source": [
    "%timeit somme_max_glouton(T, 13, 13)\n",
    "somme_max_glouton(T, 13, 13)"
   ]
  },
  {
   "cell_type": "markdown",
   "metadata": {},
   "source": [
    "L'alogorithme glouton ne donne a priori pas la solution optimale. Sauf dans l'exemple de l'énoncé du sujet 0: Coup de bol!  \n",
    "Mais généralement, on obtiendra un résultat qui pourra être pertinent si:\n",
    "- Le temps de réponse est critique\n",
    "- Une approximation du résultat est satisfaisant"
   ]
  },
  {
   "cell_type": "code",
   "execution_count": 2,
   "metadata": {},
   "outputs": [
    {
     "ename": "PermissionError",
     "evalue": "[WinError 5] Accès refusé",
     "output_type": "error",
     "traceback": [
      "\u001b[1;31m---------------------------------------------------------------------------\u001b[0m",
      "\u001b[1;31mPermissionError\u001b[0m                           Traceback (most recent call last)",
      "\u001b[1;32m<ipython-input-2-fc8d095c7c71>\u001b[0m in \u001b[0;36m<module>\u001b[1;34m\u001b[0m\n\u001b[0;32m      1\u001b[0m \u001b[1;32mimport\u001b[0m \u001b[0mtime\u001b[0m\u001b[1;33m\u001b[0m\u001b[1;33m\u001b[0m\u001b[0m\n\u001b[1;32m----> 2\u001b[1;33m \u001b[1;32mimport\u001b[0m \u001b[0mmatplotlib\u001b[0m\u001b[1;33m.\u001b[0m\u001b[0mpyplot\u001b[0m \u001b[1;32mas\u001b[0m \u001b[0mplt\u001b[0m\u001b[1;33m\u001b[0m\u001b[1;33m\u001b[0m\u001b[0m\n\u001b[0m\u001b[0;32m      3\u001b[0m \u001b[0mX\u001b[0m \u001b[1;33m=\u001b[0m \u001b[1;33m[\u001b[0m\u001b[1;33m]\u001b[0m \u001b[1;31m# Liste des abscisses\u001b[0m\u001b[1;33m\u001b[0m\u001b[1;33m\u001b[0m\u001b[0m\n\u001b[0;32m      4\u001b[0m \u001b[0mY\u001b[0m \u001b[1;33m=\u001b[0m \u001b[1;33m[\u001b[0m\u001b[1;33m[\u001b[0m\u001b[1;33m]\u001b[0m\u001b[1;33m,\u001b[0m\u001b[1;33m[\u001b[0m\u001b[1;33m]\u001b[0m\u001b[1;33m,\u001b[0m\u001b[1;33m[\u001b[0m\u001b[1;33m]\u001b[0m\u001b[1;33m]\u001b[0m \u001b[1;31m# Listes des réponses pour somme_max_rec(), somme_max_memoisation() et somme_max_glouton()\u001b[0m\u001b[1;33m\u001b[0m\u001b[1;33m\u001b[0m\u001b[0m\n\u001b[0;32m      5\u001b[0m \u001b[1;32mfor\u001b[0m \u001b[0mN\u001b[0m \u001b[1;32min\u001b[0m \u001b[0mrange\u001b[0m\u001b[1;33m(\u001b[0m\u001b[1;36m4\u001b[0m\u001b[1;33m,\u001b[0m\u001b[1;36m6\u001b[0m\u001b[1;33m)\u001b[0m\u001b[1;33m:\u001b[0m\u001b[1;33m\u001b[0m\u001b[1;33m\u001b[0m\u001b[0m\n",
      "\u001b[1;32mU:\\config_eole\\Application Data\\Python\\Python37\\site-packages\\matplotlib\\__init__.py\u001b[0m in \u001b[0;36m<module>\u001b[1;34m\u001b[0m\n\u001b[0;32m    105\u001b[0m \u001b[1;31m# cbook must import matplotlib only within function\u001b[0m\u001b[1;33m\u001b[0m\u001b[1;33m\u001b[0m\u001b[1;33m\u001b[0m\u001b[0m\n\u001b[0;32m    106\u001b[0m \u001b[1;31m# definitions, so it is safe to import from it here.\u001b[0m\u001b[1;33m\u001b[0m\u001b[1;33m\u001b[0m\u001b[1;33m\u001b[0m\u001b[0m\n\u001b[1;32m--> 107\u001b[1;33m \u001b[1;32mfrom\u001b[0m \u001b[1;33m.\u001b[0m \u001b[1;32mimport\u001b[0m \u001b[0mcbook\u001b[0m\u001b[1;33m,\u001b[0m \u001b[0mrcsetup\u001b[0m\u001b[1;33m\u001b[0m\u001b[1;33m\u001b[0m\u001b[0m\n\u001b[0m\u001b[0;32m    108\u001b[0m \u001b[1;32mfrom\u001b[0m \u001b[0mmatplotlib\u001b[0m\u001b[1;33m.\u001b[0m\u001b[0mcbook\u001b[0m \u001b[1;32mimport\u001b[0m \u001b[0mMatplotlibDeprecationWarning\u001b[0m\u001b[1;33m,\u001b[0m \u001b[0msanitize_sequence\u001b[0m\u001b[1;33m\u001b[0m\u001b[1;33m\u001b[0m\u001b[0m\n\u001b[0;32m    109\u001b[0m \u001b[1;32mfrom\u001b[0m \u001b[0mmatplotlib\u001b[0m\u001b[1;33m.\u001b[0m\u001b[0mcbook\u001b[0m \u001b[1;32mimport\u001b[0m \u001b[0mmplDeprecation\u001b[0m  \u001b[1;31m# deprecated\u001b[0m\u001b[1;33m\u001b[0m\u001b[1;33m\u001b[0m\u001b[0m\n",
      "\u001b[1;32mU:\\config_eole\\Application Data\\Python\\Python37\\site-packages\\matplotlib\\cbook\\__init__.py\u001b[0m in \u001b[0;36m<module>\u001b[1;34m\u001b[0m\n\u001b[0;32m     26\u001b[0m \u001b[1;32mimport\u001b[0m \u001b[0mweakref\u001b[0m\u001b[1;33m\u001b[0m\u001b[1;33m\u001b[0m\u001b[0m\n\u001b[0;32m     27\u001b[0m \u001b[1;33m\u001b[0m\u001b[0m\n\u001b[1;32m---> 28\u001b[1;33m \u001b[1;32mimport\u001b[0m \u001b[0mnumpy\u001b[0m \u001b[1;32mas\u001b[0m \u001b[0mnp\u001b[0m\u001b[1;33m\u001b[0m\u001b[1;33m\u001b[0m\u001b[0m\n\u001b[0m\u001b[0;32m     29\u001b[0m \u001b[1;33m\u001b[0m\u001b[0m\n\u001b[0;32m     30\u001b[0m \u001b[1;32mimport\u001b[0m \u001b[0mmatplotlib\u001b[0m\u001b[1;33m\u001b[0m\u001b[1;33m\u001b[0m\u001b[0m\n",
      "\u001b[1;32mU:\\config_eole\\Application Data\\Python\\Python37\\site-packages\\numpy\\__init__.py\u001b[0m in \u001b[0;36m<module>\u001b[1;34m\u001b[0m\n\u001b[0;32m    136\u001b[0m \u001b[1;33m\u001b[0m\u001b[0m\n\u001b[0;32m    137\u001b[0m     \u001b[1;31m# Allow distributors to run custom init code\u001b[0m\u001b[1;33m\u001b[0m\u001b[1;33m\u001b[0m\u001b[1;33m\u001b[0m\u001b[0m\n\u001b[1;32m--> 138\u001b[1;33m     \u001b[1;32mfrom\u001b[0m \u001b[1;33m.\u001b[0m \u001b[1;32mimport\u001b[0m \u001b[0m_distributor_init\u001b[0m\u001b[1;33m\u001b[0m\u001b[1;33m\u001b[0m\u001b[0m\n\u001b[0m\u001b[0;32m    139\u001b[0m \u001b[1;33m\u001b[0m\u001b[0m\n\u001b[0;32m    140\u001b[0m     \u001b[1;32mfrom\u001b[0m \u001b[1;33m.\u001b[0m \u001b[1;32mimport\u001b[0m \u001b[0mcore\u001b[0m\u001b[1;33m\u001b[0m\u001b[1;33m\u001b[0m\u001b[0m\n",
      "\u001b[1;32mU:\\config_eole\\Application Data\\Python\\Python37\\site-packages\\numpy\\_distributor_init.py\u001b[0m in \u001b[0;36m<module>\u001b[1;34m\u001b[0m\n\u001b[0;32m     24\u001b[0m                 \u001b[1;31m# NOTE: would it change behavior to load ALL\u001b[0m\u001b[1;33m\u001b[0m\u001b[1;33m\u001b[0m\u001b[1;33m\u001b[0m\u001b[0m\n\u001b[0;32m     25\u001b[0m                 \u001b[1;31m# DLLs at this path vs. the name restriction?\u001b[0m\u001b[1;33m\u001b[0m\u001b[1;33m\u001b[0m\u001b[1;33m\u001b[0m\u001b[0m\n\u001b[1;32m---> 26\u001b[1;33m                 \u001b[0mWinDLL\u001b[0m\u001b[1;33m(\u001b[0m\u001b[0mos\u001b[0m\u001b[1;33m.\u001b[0m\u001b[0mpath\u001b[0m\u001b[1;33m.\u001b[0m\u001b[0mabspath\u001b[0m\u001b[1;33m(\u001b[0m\u001b[0mfilename\u001b[0m\u001b[1;33m)\u001b[0m\u001b[1;33m)\u001b[0m\u001b[1;33m\u001b[0m\u001b[1;33m\u001b[0m\u001b[0m\n\u001b[0m\u001b[0;32m     27\u001b[0m                 \u001b[0mDLL_filenames\u001b[0m\u001b[1;33m.\u001b[0m\u001b[0mappend\u001b[0m\u001b[1;33m(\u001b[0m\u001b[0mfilename\u001b[0m\u001b[1;33m)\u001b[0m\u001b[1;33m\u001b[0m\u001b[1;33m\u001b[0m\u001b[0m\n\u001b[0;32m     28\u001b[0m         \u001b[1;32mif\u001b[0m \u001b[0mlen\u001b[0m\u001b[1;33m(\u001b[0m\u001b[0mDLL_filenames\u001b[0m\u001b[1;33m)\u001b[0m \u001b[1;33m>\u001b[0m \u001b[1;36m1\u001b[0m\u001b[1;33m:\u001b[0m\u001b[1;33m\u001b[0m\u001b[1;33m\u001b[0m\u001b[0m\n",
      "\u001b[1;32mC:\\ProgramData\\Anaconda3\\lib\\ctypes\\__init__.py\u001b[0m in \u001b[0;36m__init__\u001b[1;34m(self, name, mode, handle, use_errno, use_last_error)\u001b[0m\n\u001b[0;32m    354\u001b[0m \u001b[1;33m\u001b[0m\u001b[0m\n\u001b[0;32m    355\u001b[0m         \u001b[1;32mif\u001b[0m \u001b[0mhandle\u001b[0m \u001b[1;32mis\u001b[0m \u001b[1;32mNone\u001b[0m\u001b[1;33m:\u001b[0m\u001b[1;33m\u001b[0m\u001b[1;33m\u001b[0m\u001b[0m\n\u001b[1;32m--> 356\u001b[1;33m             \u001b[0mself\u001b[0m\u001b[1;33m.\u001b[0m\u001b[0m_handle\u001b[0m \u001b[1;33m=\u001b[0m \u001b[0m_dlopen\u001b[0m\u001b[1;33m(\u001b[0m\u001b[0mself\u001b[0m\u001b[1;33m.\u001b[0m\u001b[0m_name\u001b[0m\u001b[1;33m,\u001b[0m \u001b[0mmode\u001b[0m\u001b[1;33m)\u001b[0m\u001b[1;33m\u001b[0m\u001b[1;33m\u001b[0m\u001b[0m\n\u001b[0m\u001b[0;32m    357\u001b[0m         \u001b[1;32melse\u001b[0m\u001b[1;33m:\u001b[0m\u001b[1;33m\u001b[0m\u001b[1;33m\u001b[0m\u001b[0m\n\u001b[0;32m    358\u001b[0m             \u001b[0mself\u001b[0m\u001b[1;33m.\u001b[0m\u001b[0m_handle\u001b[0m \u001b[1;33m=\u001b[0m \u001b[0mhandle\u001b[0m\u001b[1;33m\u001b[0m\u001b[1;33m\u001b[0m\u001b[0m\n",
      "\u001b[1;31mPermissionError\u001b[0m: [WinError 5] Accès refusé"
     ]
    }
   ],
   "source": [
    "import time\n",
    "import matplotlib.pyplot as plt\n",
    "X = [] # Liste des abscisses\n",
    "Y = [[],[],[]] # Listes des réponses pour somme_max_rec(), somme_max_memoisation() et somme_max_glouton()\n",
    "for N in range(4,6):\n",
    "    X.append(N)\n",
    "    T =  creer_tableau(N, N, 9) # Création de la matrice carré N*N dont les valeurs sont comprises entre 0 et 9\n",
    "    # Mesure du temps pour somme_max_rec\n",
    "    t_debut = time.time()\n",
    "    somme_max_rec(T, N-1, N-1) # Remarque: Pour une matrice N*N le dernier élément a pour coordonnées (N-1, N-1)\n",
    "    t_fin = time.time()\n",
    "    Y[0].append(t_fin - t_debut)\n",
    "    # Mesure du temps pour somme_max_memoisation\n",
    "    t_debut = time.time()\n",
    "    somme_max_memoisation(T, N-1, N-1) # Remarque: Pour une matrice N*N le dernier élément a pour coordonnées (N-1, N-1)\n",
    "    t_fin = time.time()\n",
    "    Y[1].append(t_fin - t_debut)\n",
    "    # Mesure du temps pour somme_max_glouton\n",
    "    t_debut = time.time()\n",
    "    somme_max_glouton(T, N-1, N-1) # Remarque: Pour une matrice N*N le dernier élément a pour coordonnées (N-1, N-1)\n",
    "    t_fin = time.time()\n",
    "    Y[2].append(t_fin - t_debut)\n",
    "\n",
    "plt.plot(X, Y[0])\n",
    "plt.plot(X, Y[1])\n",
    "plt.plot(X, Y[2])\n",
    "plt.grid() # affiche la grille\n",
    "plt.show() # affiche le graphique"
   ]
  },
  {
   "cell_type": "markdown",
   "metadata": {},
   "source": [
    "---\n",
    "<p style=\"font-family:Comic Sans MS; text-align: center; color:gray; font-size: x-small; \">- Eric Buonocore. Janvier 2021 -<br></p>\n",
    "\n",
    "![Licence CC BY NC SA](https://licensebuttons.net/l/by-nc-sa/3.0/88x31.png)\n",
    "<p style=\"font-family:Comic Sans MS; text-align: center; color:gray; font-size: x-small; \">D'après la correction proposée par Nicolas Revéret et les approfondissements de Ronan Jahier<br></p>"
   ]
  }
 ],
 "metadata": {
  "kernelspec": {
   "display_name": "Python 3",
   "language": "python",
   "name": "python3"
  },
  "language_info": {
   "codemirror_mode": {
    "name": "ipython",
    "version": 3
   },
   "file_extension": ".py",
   "mimetype": "text/x-python",
   "name": "python",
   "nbconvert_exporter": "python",
   "pygments_lexer": "ipython3",
   "version": "3.7.3"
  }
 },
 "nbformat": 4,
 "nbformat_minor": 4
}

{
 "cells": [
  {
   "cell_type": "markdown",
   "metadata": {},
   "source": [
    "<div style=\"width:100%;border-collapse:separate;border:solid 2px;border-radius:14px;\">\n",
    "    <div style=\"display:flex;\">\n",
    "        <div style=\"display:inline;width:5%;\"></div>\n",
    "        <div style=\"display:inline;width:15%;\">NSIT</div>\n",
    "        <div style=\"display:inline;width:15%;\">e99a</div>\n",
    "        <div style=\"display:inline;width:70%;text-align:right;\"><b>Bachotage</b></div>\n",
    "        <div style=\"display:inline;width:5%;\"></div>\n",
    "    </div>\n",
    "    <div  style=\"display: flex;background-color:#EEE\">\n",
    "        <p style=\"width:100%;text-align:center;\">Sujet 0: 2020-2021 </p>\n",
    "    </div>\n",
    "    <div  style=\"display: flex;\">\n",
    "        <p style=\"width:100%;text-align:center;\">Correction de l'exercice 2 : Optimisation d'un chemin dans un tableau</p>\n",
    "    </div>\n",
    "</div>"
   ]
  },
  {
   "cell_type": "markdown",
   "metadata": {},
   "source": [
    "<div class = \"alert alert-success\">\n",
    "    \n",
    "**Objectifs de la séquence:** \n",
    "- Proposer des programmes répondant aux questions de l'exercice 2: Cet exercice porte sur la programmation en général et la récursivité en particulier."
   ]
  },
  {
   "cell_type": "markdown",
   "metadata": {},
   "source": [
    "<div class = \"alert alert-info\">\n",
    "    \n",
    "**Sommaire :**\n",
    "\n",
    "<a href=#P>Présentation</a>  \n",
    "<a href=#Q1>Question 1:</a> Notion de chemin  \n",
    "<a href=#Q2>Question 2:</a> Force brute   \n",
    "<a href=#Q3>Question 3:</a> Tableau des sommes maximales T'  \n",
    "<a href=#Q4>Question 4:</a> Formule récursive de T'[i][j]  \n",
    "<a href=#Q5>Question 5:</a> Fonction récursive de T'[i][j]  \n",
    "<a href=#A1>Approfondissement 1:</a> Générateur de tableau     \n",
    "<a href=#A2>Approfondissement 2:</a> Approche récursive avec mémoïsation (bottom-down)  \n",
    "<a href=#A4>Approfondissement 3:</a> Comparaison des temps de calculs     \n",
    "<a href=#A4>Approfondissement 4:</a> Algorithme glouton   \n",
    "</div>"
   ]
  },
  {
   "cell_type": "markdown",
   "metadata": {},
   "source": [
    "<div id=\"P\"></div>\n",
    "\n",
    "## Présentation\n",
    "\n",
    "![ennonce_ex_2](https://github.com/ebuonocore/NSIT_99_bachotage/blob/main/NSIT_99a_2020_2021_sujet0/sources/ex_2_presentation.png?raw=true)\n",
    "\n",
    "\n",
    "<div id=\"Q1\"></div>\n",
    "\n",
    "## Question 1: Notion de chemin\n",
    "\n",
    "On considère tous les chemins allant de la case (0, 0) à la case (2, 3) du tableau T donné en exemple.\n",
    "1. Un tel chemin comprend nécessairement 3 déplacements vers la droite. Combien de déplacements vers le bas comprend-il ?\n",
    "\n",
    "<span style=\"color:green\">Pour aller de la case (0, 0) à la case (2, 3) on fait 3 déplacements vers la droite et 2 vers le bas.</span>\n",
    "\n",
    "2. La longueur d’un chemin est égal au nombre de cases de ce chemin.  \n",
    "Justifier que tous les chemins\n",
    "allant de (0, 0) à (2, 3) ont une longueur égale à 6.\n",
    "\n",
    "<span style=\"color:green\">\n",
    "Comme on fait des déplacements de 1 pas à chaque étape, il faut faire 2 + 3 = 5 déplacements.  \n",
    "Chaque déplacement nous amène sur une nouvelle case.  \n",
    "En n’oubliant pas d’inclure la case (0, 0) il faut donc parcourir 2 + 3 + 1 = 6 cases.</span>"
   ]
  },
  {
   "cell_type": "markdown",
   "metadata": {},
   "source": [
    "<div id=\"Q2\"></div>\n",
    "\n",
    "## Question 2: Force brute\n",
    "En listant tous les chemins possibles allant de (0, 0) à (2, 3) du tableau T, déterminer un chemin qui permet d’obtenir la somme maximale et la valeur de cette somme.  \n",
    "<span style=\"color:green\">\n",
    "On peut donc voir chaque chemin comme un mot binaire de 5 bits.(Chaque bit correspond à l'un des 5 déplacements)<br>\n",
    "On  choisit arbitrairement de représenter le déplacement  vers la droite par un 0 et vers le bas par un 1.<br>\n",
    "Par exemple 00110 correspond au chemin de l'exemple de l'énoncé.<br>\n",
    "Pour ne pas en oublier, on peut énumérer toutes les combinaisons bianires sur 5 bits ne contenant que deux 1</span>"
   ]
  },
  {
   "cell_type": "code",
   "execution_count": 1,
   "metadata": {},
   "outputs": [],
   "source": [
    "T = [ [4, 1, 1, 3],\n",
    "      [2, 0, 2, 1],\n",
    "      [3, 1, 5, 1]]"
   ]
  },
  {
   "cell_type": "code",
   "execution_count": 2,
   "metadata": {},
   "outputs": [
    {
     "name": "stdout",
     "output_type": "stream",
     "text": [
      "→→→↓↓ (0,0),(0,1),(0,2),(0,3),(1,3),(2,3) 11\n",
      "→→↓→↓ (0,0),(0,1),(0,2),(1,2),(1,3),(2,3) 10\n",
      "→↓→→↓ (0,0),(0,1),(1,1),(1,2),(1,3),(2,3) 9\n",
      "↓→→→↓ (0,0),(1,0),(1,1),(1,2),(1,3),(2,3) 10\n",
      "→→↓↓→ (0,0),(0,1),(0,2),(1,2),(2,2),(2,3) 14\n",
      "→↓→↓→ (0,0),(0,1),(1,1),(1,2),(2,2),(2,3) 13\n",
      "↓→→↓→ (0,0),(1,0),(1,1),(1,2),(2,2),(2,3) 14\n",
      "→↓↓→→ (0,0),(0,1),(1,1),(2,1),(2,2),(2,3) 12\n",
      "↓→↓→→ (0,0),(1,0),(1,1),(2,1),(2,2),(2,3) 13\n",
      "↓↓→→→ (0,0),(1,0),(2,0),(2,1),(2,2),(2,3) 16\n"
     ]
    }
   ],
   "source": [
    "fleches = (chr(0x2192), chr(0x2193)) # Désigne les caractères flèche droite et flèche bas\n",
    "\n",
    "for dernier_bas in range(4,0,-1):\n",
    "    for premier_bas in range(dernier_bas-1, -1, -1):\n",
    "        chemin = [0]*5\n",
    "        chemin[dernier_bas]=1\n",
    "        chemin[premier_bas]=1\n",
    "        # chemin désigne le mot de 6 bits correspondant à la succession des directions\n",
    "        somme = T[0][0] # Initatilisation de la somme de ce chemin à la valeur de T[0][0]\n",
    "        chemin_fleches = \"\" # Chaîne de caractères décrivant le chemin par des flèches\n",
    "        chemin_str = \"(0,0)\" # Chaîne de caractères décrivant la succession de tuples\n",
    "        i, j = 0,0 # (0,0) désigne l'origine du chemin\n",
    "        for direction in chemin:\n",
    "            if direction == 0: # Si on doit aller à droite\n",
    "                j += 1\n",
    "            else:\n",
    "                i += 1\n",
    "            chemin_fleches += fleches[direction]\n",
    "            chemin_str += \",(\"+str(i)+\",\"+str(j)+\")\"\n",
    "            somme += T[i][j]\n",
    "        print(chemin_fleches, chemin_str, somme)"
   ]
  },
  {
   "cell_type": "markdown",
   "metadata": {},
   "source": [
    "<span style=\"color:green\">\n",
    "La somme maximale de 16 est atteinte en passant par le dernier chemin de cette liste: (0,0),(1,0),(2,0),(2,1),(2,2),(2,3)</span>"
   ]
  },
  {
   "cell_type": "markdown",
   "metadata": {},
   "source": [
    "<div id=\"Q3\"></div>\n",
    "\n",
    "## Question 3:  Tableau des sommes maximales \n",
    "\n",
    "On veut créer le tableau T’ où chaque élément T’[i][j] est la somme maximale pour tous les\n",
    "chemins possibles allant de (0, 0) à (i, j).\n",
    "1. Compléter et recopier sur votre copie le tableau T’ donné ci-dessous associé au tableau\n",
    "![ennonce_ex_3](https://github.com/ebuonocore/NSIT_99_bachotage/blob/main/NSIT_99a_2020_2021_sujet0/sources/ex_2_q3.png?raw=true)"
   ]
  },
  {
   "cell_type": "markdown",
   "metadata": {},
   "source": [
    "<span style=\"color:green\">\n",
    "Chemins optimisants la somme pour les cases à compléter:<br>\n",
    "→→→ (0,0),(0,1),(0,2),(0,3) Somme = 4 + 1 + 1 + 3 = 9<br>\n",
    "↓→→ (0,0),(1,0),(1,1) Somme = 4 + 2 + 0 = 6<br>\n",
    "↓↓→→ (0,0),(1,0),(2,0),(2,1),(2,2) Somme = 4 + 2 + 3 + 1 + 5 = 15</span>"
   ]
  },
  {
   "cell_type": "markdown",
   "metadata": {},
   "source": [
    "![ennonce_ex_3_tableau_complet](https://github.com/ebuonocore/NSIT_99_bachotage/blob/main/NSIT_99a_2020_2021_sujet0/sources/ex_2_q3_complet.png?raw=true)\n",
    "\n",
    "2. Justifier que si j est différent de 0, alors : T’ [ 0 ][ j ] = T [ 0 ][ j ] + T’ [ 0 ][ j-1 ]  \n",
    "\n",
    "<span style=\"color:green\">\n",
    "La valeur T'[0][j] où j est non nul correspond à la somme des cases (0, 0) à (0, j), c’est à dire des cases de la première ligne du tableau.<br>\n",
    "    Il n’y a <b>qu’un seul chemin</b> qui corresponde à cette somme et il passe obligatoirement par la case à gauche (d’indice j-1) de la case (0, j).<br>\n",
    "Donc pour calculer la somme T'[0][j] on ajoute simplement la valeur de la case (0, j) (c’est à dire T[0][j]) à la somme obtenue à la case précédente (c’est à dire T'[0][j-1]). On a donc bien T'[0][j] = T[0][j]+T'[0][j-1].\n",
    "</span>"
   ]
  },
  {
   "cell_type": "markdown",
   "metadata": {},
   "source": [
    "<div id=\"Q4\"></div>\n",
    "\n",
    "## Question 4:  Formule récursive de T'[i][j]\n",
    "\n",
    "Justifier que si i et j sont différents de 0, alors :  \n",
    "T’ [ i ][ j ] = T [ i ][ j ] + max(T’ [ i-1 ][ j ], T’ [ i ][ j-1 ]).  \n",
    "\n",
    "<br>\n",
    "<span style=\"color:green\">\n",
    "<u>Si i et j son non-nuls</u>, il y a deux chemins amenant à la case (i, j).<br>\n",
    "Le premier provient de la case du dessus (i − 1, j), le second de la case de gauche (i, j − 1).<br>\n",
    "La valeur de T'[i][j] s’obtient donc en ajoutant la valeur de T[i][j] au maximum des deux chemins menant\n",
    "à cette case : max(T'[i-1][j],T'[i][j-1]).<br>\n",
    "Par exemple: <br>\n",
    "T’ [2][1] = T [2][1] + max(T’ [1][1], T’ [2][0])<br>\n",
    "Soit T’ [2][1] = 1 + max(6, 9) = 10</span>"
   ]
  },
  {
   "cell_type": "markdown",
   "metadata": {},
   "source": [
    "<div id=\"Q5\"></div>\n",
    "\n",
    "## Question 5:  Fonction récursive de T'[i][j]\n",
    "\n",
    "On veut créer la fonction récursive <code>somme_max_rec</code> ayant pour paramètres un tableau T, un entier i et un entier j.  \n",
    "Cette fonction renvoie la somme maximale pour tous les chemins possibles allant\n",
    "de la case (0, 0) à la case (i, j).  \n",
    "\n",
    "1.Quel est le cas de base, à savoir le cas qui est traité directement sans faire appel à la fonction <code>somme_max_rec</code> ?  \n",
    "Que renvoie-t-on dans ce cas ?\n",
    "\n",
    "<span style=\"color:blue\">\n",
    "Il peut être intéressant de faire un schéma pour se représenter les opérations effectuées lors des appels récursifs.<br>\n",
    "Pour gagner du temps le jour de l'épreuve, il ne vaut mieux pas se lancer sur la représentation du problème dans son intégralité.<br>\n",
    "Si on se limite à un premier calcul de T'[1][2], on obtient alors un arbre des appels récursifs lancés depuis la case (1,2):\n",
    "</span>\n",
    "\n",
    "![ennonce_ex_3_tableau_complet](https://github.com/ebuonocore/NSIT_99_bachotage/blob/main/NSIT_99a_2020_2021_sujet0/sources/ex_2_q5_T.png?raw=true)"
   ]
  },
  {
   "cell_type": "markdown",
   "metadata": {},
   "source": [
    "<span style=\"color:blue\">\n",
    "L'expression de T'[i][j] vue à la question 4 est conditionnée au fait que i et j ne soient pas nuls. Et, en effet, si c'est le cas, on sort du tableau: Ce que l'on voit ci-dessus avec la flèche en pointillés bleus partant de la case (0,1).<br>\n",
    "Quelques appels récursifs sont représentés par des flèches dans le tableau ci-dessus, et par des arêtes colorées plus bas.<br>   \n",
    "\n",
    "L'arbre des appels récursifs ci-dessous montre bien que:<br>\n",
    "- Certaines cases lancent 2 appels récursifs : cases (1,2), (1,1)<br>\n",
    "- D'autres un seul : cases (0,2), (0,1)...<br>\n",
    "- La case initiale du chemin (0,0) ne lance aucun appel<br>\n",
    "\n",
    "En remontant de chaque feuille vers la racine, nous retrouvons les 3 chemins possibles depuis (0,0) vers (1,2)</span>"
   ]
  },
  {
   "cell_type": "markdown",
   "metadata": {},
   "source": [
    "![ennonce_ex_3_tableau_complet](https://github.com/ebuonocore/NSIT_99_bachotage/blob/main/NSIT_99a_2020_2021_sujet0/sources/ex_2_q5_appels_rec_1_2_col.png?raw=true)\n",
    "\n",
    "<span style=\"color:blue\">\n",
    "Pour aller un peu plus loin, voilà l'arbre des appels récursifs lancé depuis la case (2,3).<br>\n",
    "On y retrouve les 10 branches correspondant aux 10 chemins possibles.<br>\n",
    "On voit aussi que l'appel de T'[1][2] est fait 2 fois et T'[0][1] est calculé 6 fois.<br>\n",
    "Nous en reparlerons plus loin...\n",
    "</span>\n",
    "\n",
    "![ennonce_ex_3_tableau_complet](https://github.com/ebuonocore/NSIT_99_bachotage/blob/main/NSIT_99a_2020_2021_sujet0/sources/ex_2_q5_appels_rec_2_3_pointeurs.png?raw=true)\n",
    "\n",
    "<span style=\"color:green\">\n",
    "Lorsque i=0 et j=0, il n'y aura pas d'autre appel récursif: T'[0][0] est donc le cas de base.<br>\n",
    "somme_max_rec(0,0) = T[0][0]<br>  \n",
    "Dans cet exemple: somme_max_rec(0,0) = 4\n",
    "</span>\n",
    "\n",
    "2. À l’aide de la question précédente, <u>compléter</u> la fonction récursive <code>somme_max_rec</code>.  \n",
    "\n",
    "<div style=\"display:inline-flex;width:100px\">&#x2705; <a href=\"https://github.com/ebuonocore/NSIT_99_bachotage/blob/main/NSIT_99a_2020_2021_sujet0/corrections/ex2_5_2.txt\">Correction</a></div>"
   ]
  },
  {
   "cell_type": "code",
   "execution_count": null,
   "metadata": {},
   "outputs": [],
   "source": [
    "def somme_max_rec(T:list, i:int, j:int)->int:\n",
    "    \"\"\" Renvoie la somme maximum des différents chemins obtenu par appels récursifs\n",
    "    \"\"\"\n",
    "    if i == 0 and j == 0:\n",
    "        ...\n",
    "    elif i == 0 : # Première ligne:Un seul appel récursif vers la case de gauche\n",
    "        return T[0][j] + somme_max_rec(...)\n",
    "    elif j == 0 : # Première colonne: Un seul appel récursif vers la case du dessus\n",
    "        return T[i][0] + somme_max_rec(...)\n",
    "    else : # Cas générale\n",
    "        return T[i][j] + max(somme_max_rec(T,i-1,j), somme_max_rec(T,i,j-1))"
   ]
  },
  {
   "cell_type": "markdown",
   "metadata": {},
   "source": [
    "3. Quel appel de fonction doit-on faire pour résoudre le problème initial ?"
   ]
  },
  {
   "cell_type": "code",
   "execution_count": null,
   "metadata": {},
   "outputs": [],
   "source": [
    "..."
   ]
  },
  {
   "cell_type": "markdown",
   "metadata": {},
   "source": [
    "<div id=\"A1\"></div>\n",
    "\n",
    "## Approfondissement 1: Générateur de tableau\n",
    "\n",
    "On veut créer la fonction <code>creer_tableau</code> qui génère un tableau d'entiers aléatoirment.  \n",
    "<code>creer_tableau</code> prend 3 paramètres:  \n",
    "- nb_lignes: Nombre de lignes du tableau  \n",
    "- nb_colonnes: Nombre de colonnes du tableau  \n",
    "- valeur_max: Chaque valeur est tirée au hasard entre 1 et valeur_max\n",
    "\n",
    "<div style=\"display:inline-flex;width:100px\">&#x2705; <a href=\"https://github.com/ebuonocore/NSIT_99_bachotage/blob/main/NSIT_99a_2020_2021_sujet0/corrections/ex2_a1_1.txt\">Correction1</a></div>\n",
    "<div style=\"display:inline-flex;width:100px\">&#x2705; <a href=\"https://github.com/ebuonocore/NSIT_99_bachotage/blob/main/NSIT_99a_2020_2021_sujet0/corrections/ex2_a1_2.txt\">Correction2</a></div>"
   ]
  },
  {
   "cell_type": "code",
   "execution_count": null,
   "metadata": {},
   "outputs": [],
   "source": [
    "import random as rd\n",
    "\n",
    "def creer_tableau(nb_lignes:int, nb_colonnes:int, valeur_max:int)->list:\n",
    "    \"\"\" Renvoie un tableau de (nb_lignes * nb_colonnes) d'entiers tirés au hasard \n",
    "        entre 1 et valeur_max\n",
    "    \"\"\"\n",
    "    pass\n",
    "\n",
    "\n",
    "\n",
    "T =  creer_tableau(10, 20, 30)    \n",
    "T # Affiche le tableau généré"
   ]
  },
  {
   "cell_type": "markdown",
   "metadata": {},
   "source": [
    "<div id=\"A2\"></div>\n",
    "\n",
    "## Approfondissement 2:  Approche récursive avec mémoïsation (bottom-down)\n",
    "\n",
    "L'idée est de **stocker dans un tableau annexe toutes les valeurs déjà calculées** une fois pour ne pas recommencer !\n",
    "\n",
    "**On conserve l'approche descendante de la récursivité** : la solution globale fait appel au fur et à mesure aux solutions des sous-problèmes (en vérifiant si une valeur n'a pas déjà été mémorisée avant de se lancer dans d'autres appels récursifs).\n",
    "\n",
    "Pour rappel, voila une représentation des appels réursifs sur le tableau inital T vu à la question 5:\n",
    "\n",
    "![arbre_appe1s_sans_memoisation](https://github.com/ebuonocore/NSIT_99_bachotage/blob/main/NSIT_99a_2020_2021_sujet0/sources/ex_2_a1_appels_rec_2_3_sans_memoisation.png?raw=true)\n",
    "\n",
    "Ci dessous, une représentation de la résolution du même problème avec mémoïsation:\n",
    "![arbre_appe1s_avec_memoisation](https://github.com/ebuonocore/NSIT_99_bachotage/blob/main/NSIT_99a_2020_2021_sujet0/sources/ex_2_a1_appels_rec_2_3_avec_memoisation.png?raw=true)"
   ]
  },
  {
   "cell_type": "markdown",
   "metadata": {},
   "source": [
    "On voit par exemple que T'[1][2] n'est calculé qu'une seule fois.  \n",
    "Toutes les cases ne sont calculées qu'une seule fois.. d'ailleurs, il y a 3*4 cases dans notre tableau.  \n",
    "Et il y a 12 noeuds dans cet arbre.  \n",
    "Compléter le programme ci-dessous:  compléter le cas de base de la fonction <code>somme_max_memo</code>.   \n",
    "Dans la fonction <code>somme_max_memoisation</code>, créer un tableau memoire ne contenant que des None de la même taille que T.\n",
    "\n",
    "<div style=\"display:inline-flex;width:100px\">&#x2705; <a href=\"https://github.com/ebuonocore/NSIT_99_bachotage/blob/main/NSIT_99a_2020_2021_sujet0/corrections/ex2_a2.txt\">Correction</a></div>"
   ]
  },
  {
   "cell_type": "code",
   "execution_count": null,
   "metadata": {},
   "outputs": [],
   "source": [
    "def somme_max_memo(T:list, i:int, j:int, memoire:list)->list:\n",
    "    \"\"\" Renvoie la somme maximum des différents chemins obtenu par appels récursifs\n",
    "        Si une valeur a déjà été calculée et mémorisée dans le tableau memoire,\n",
    "        elle est renvoyée directement sans faire d'autres appels récursifs.\n",
    "    \"\"\"\n",
    "    if memoire[i][j] is not None:\n",
    "        return memoire[i][j]\n",
    "    if i == j == 0:\n",
    "        memoire[0][0] = ...\n",
    "        return memoire[0][0]\n",
    "    elif i == 0:\n",
    "        memoire[0][j] = T[0][j] + somme_max_memo(T, 0, j-1, memoire)\n",
    "    elif j == 0:\n",
    "        memoire[i][0] = T[i][0] + somme_max_memo(T, i-1, 0, memoire)\n",
    "    else:\n",
    "        gauche = somme_max_memo(T, i, j-1, memoire)\n",
    "        haut = somme_max_memo(T, i-1, j, memoire)\n",
    "        memoire[i][j] = T[i][j] + max(gauche, haut)\n",
    "    return memoire[i][j]\n",
    "\n",
    "def somme_max_memoisation(T:list, i:int, j:int)->int:\n",
    "    \"\"\" Construit le tableau memoire de même dimensions que T\n",
    "        A l'initialisation, toutes les valeurs de memoire sont à None\n",
    "        Appel somme_max_memo() pour calculer et renvoyer la somme correspondant au chemin optimal \n",
    "    \"\"\"\n",
    "    memoire = ...\n",
    "    return somme_max_memo(T, i, j, memoire)\n",
    "\n",
    "# Test: Caculs de T'[5][7] avec ou sans mémoïsation\n",
    "# On vérifie que les deux résultats sont identiques\n",
    "T =  creer_tableau(6, 8, 9) \n",
    "print(\"Calcul sans mémoïsation:\",somme_max_rec(T, 5, 7))\n",
    "print(\"Calcul avec mémoïsation:\",somme_max_memoisation(T, 5, 7))\n",
    "T"
   ]
  },
  {
   "cell_type": "markdown",
   "metadata": {},
   "source": [
    "<div id=\"A3\"></div>\n",
    "\n",
    "## Approfondissement 3: Comparaison des temps de calculs\n",
    "\n",
    "Pour des tableaux de plus grandes tailles, nous allons comparer les temps de résolution des problèmes avec ou sans mémoïsation.  \n",
    "Commencez avec des tableaux de 10*10, puis poussez un peu plus loin tant que le temps de calcul est 'raisonnable' selon votre machine.  \n",
    "<div style=\"display:inline-flex;width:100px\">&#x2705; <a href=\"https://github.com/ebuonocore/NSIT_99_bachotage/blob/main/NSIT_99a_2020_2021_sujet0/corrections/ex2_a3.txt\">Correction</a></div>"
   ]
  },
  {
   "cell_type": "code",
   "execution_count": null,
   "metadata": {},
   "outputs": [],
   "source": [
    "T =  creer_tableau(...)\n",
    "# Lance et affiche le chronométrage de la fonction somme_max_rec\n",
    "%timeit somme_max_rec(...)"
   ]
  },
  {
   "cell_type": "code",
   "execution_count": null,
   "metadata": {},
   "outputs": [],
   "source": [
    "# Lance et affiche le chronométrage de la fonction somme_max_memoisation\n",
    "%timeit somme_max_memoisation(...)"
   ]
  },
  {
   "cell_type": "markdown",
   "metadata": {},
   "source": [
    "<div id=\"A4\"></div>\n",
    "\n",
    "## Approfondissement 4: Algorithme glouton\n",
    "\n",
    "Avec un algorithme glouton, on espère construire une solution **optimale globale** par la \n",
    "succession d’**optimum locaux**.  \n",
    "![glouton_trop_mignon](https://github.com/ebuonocore/NSIT_99_bachotage/blob/main/NSIT_99a_2020_2021_sujet0/sources/ex_2_a3_glouton.png?raw=true)\n"
   ]
  },
  {
   "cell_type": "markdown",
   "metadata": {},
   "source": [
    "Le critère local d'optimisation retenu est de s'orienter vers la cellule la plus \"grosse\" à chaque carrefour.  \n",
    "Ecriver la fonction <code>somme_max_glouton</code>  \n",
    "<div style=\"display:inline-flex;width:100px\">&#x2705; <a href=\"https://github.com/ebuonocore/NSIT_99_bachotage/blob/main/NSIT_99a_2020_2021_sujet0/corrections/ex2_a4_1.txt\">Correction</a></div>"
   ]
  },
  {
   "cell_type": "code",
   "execution_count": null,
   "metadata": {},
   "outputs": [],
   "source": [
    "def somme_max_glouton(T:list, i:int, j:int):\n",
    "    \"\"\" Recherche un chemin optimum selon un algorithme glouton.\n",
    "        Critère d'optimisation: On prend systématiquement la case en bas ou à droite \n",
    "        qui a le plus gros score\n",
    "    \"\"\"\n",
    "    pass\n",
    "\n",
    "T =  creer_tableau(10, 10, 9) \n",
    "somme_max_glouton(T, 9, 9)"
   ]
  },
  {
   "cell_type": "code",
   "execution_count": null,
   "metadata": {},
   "outputs": [],
   "source": [
    "T =  creer_tableau(10, 10, 9) \n",
    "%timeit somme_max_rec(T, 9, 9)\n",
    "somme_max_rec(T, 9, 9)"
   ]
  },
  {
   "cell_type": "code",
   "execution_count": null,
   "metadata": {},
   "outputs": [],
   "source": [
    "%timeit somme_max_glouton(T, 13, 13)\n",
    "somme_max_glouton(T, 13, 13)"
   ]
  },
  {
   "cell_type": "markdown",
   "metadata": {},
   "source": [
    "L'alogorithme glouton ne donne a priori pas la solution optimale. Sauf dans l'exemple de l'énoncé du sujet 0: Coup de bol!  \n",
    "Mais généralement, on obtiendra un résultat qui pourra être pertinent si:\n",
    "- Le temps de réponse est critique\n",
    "- Une approximation du résultat est satisfaisant"
   ]
  },
  {
   "cell_type": "markdown",
   "metadata": {},
   "source": [
    "---\n",
    "<p style=\"font-family:Comic Sans MS; text-align: center; color:gray; font-size: x-small; \">- Eric Buonocore. Janvier 2021 -<br></p>\n",
    "\n",
    "![Licence CC BY NC SA](https://licensebuttons.net/l/by-nc-sa/3.0/88x31.png)\n",
    "<p style=\"font-family:Comic Sans MS; text-align: center; color:gray; font-size: x-small; \">D'après la correction proposée par Nicolas Revéret et les approfondissement de Ronan Jahier<br></p>"
   ]
  }
 ],
 "metadata": {
  "kernelspec": {
   "display_name": "Python 3",
   "language": "python",
   "name": "python3"
  },
  "language_info": {
   "codemirror_mode": {
    "name": "ipython",
    "version": 3
   },
   "file_extension": ".py",
   "mimetype": "text/x-python",
   "name": "python",
   "nbconvert_exporter": "python",
   "pygments_lexer": "ipython3",
   "version": "3.7.6"
  }
 },
 "nbformat": 4,
 "nbformat_minor": 4
}

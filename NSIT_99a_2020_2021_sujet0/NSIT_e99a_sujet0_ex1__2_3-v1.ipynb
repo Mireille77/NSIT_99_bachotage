{
 "cells": [
  {
   "cell_type": "markdown",
   "metadata": {},
   "source": [
    "<div style=\"width:100%;border-collapse:separate;border:solid 2px;border-radius:14px;\">\n",
    "    <div style=\"display:flex;\">\n",
    "        <div style=\"display:inline;width:5%;\"></div>\n",
    "        <div style=\"display:inline;width:15%;\">NSIT</div>\n",
    "        <div style=\"display:inline;width:15%;\">e99a</div>\n",
    "        <div style=\"display:inline;width:70%;text-align:right;\"><b>Bachotage</b></div>\n",
    "        <div style=\"display:inline;width:5%;\"></div>\n",
    "    </div>\n",
    "    <div  style=\"display: flex;background-color:#EEE\">\n",
    "        <p style=\"width:100%;text-align:center;\">Sujet 0: 2020-2021 </p>\n",
    "    </div>\n",
    "    <div  style=\"display: flex;\">\n",
    "        <p style=\"width:100%;text-align:center;\">Correction des exercices 1, 2 et 3</p>\n",
    "    </div>\n",
    "</div>"
   ]
  },
  {
   "cell_type": "markdown",
   "metadata": {},
   "source": [
    "<div class = \"alert alert-success\">\n",
    "    \n",
    "**Objectifs de la séquence:** \n",
    "- Proposer des programmes répondant aux exercices 1 ,2 3\n",
    "- Apporfondir de la question 2: programmation dynamique(mémoïsation)"
   ]
  },
  {
   "cell_type": "markdown",
   "metadata": {},
   "source": [
    "<div class = \"alert alert-info\">\n",
    "    \n",
    "**Sommaire :**\n",
    "\n",
    "<a href=#ex1>Exercice 1:</a> Le crêpier psycho-rigide  \n",
    "<a href=#ex2>Exercice 2:</a>  Optimisation d'une somme (chemins dans un taleau)  \n",
    "<a href=#ex3>Exercice 3:</a>  Arbres binaires et ABR(Implémentation avec un tableau)  \n",
    "</div>"
   ]
  },
  {
   "cell_type": "markdown",
   "metadata": {},
   "source": [
    "<div id=\"ex1\"></div>\n",
    "\n",
    "## Exercice 1: Le crêpier psycho-rigide"
   ]
  },
  {
   "cell_type": "code",
   "execution_count": 1,
   "metadata": {},
   "outputs": [
    {
     "data": {
      "image/jpeg": "[encoded data removed]",
      "text/html": [
       "\n",
       "        <iframe\n",
       "            width=\"800\"\n",
       "            height=\"600\"\n",
       "            src=\"https://www.youtube.com/embed/o6-4g4I6mOg\"\n",
       "            frameborder=\"0\"\n",
       "            allowfullscreen\n",
       "        ></iframe>\n",
       "        "
      ],
      "text/plain": [
       "<IPython.lib.display.YouTubeVideo at 0x62c96a0>"
      ]
     },
     "execution_count": 1,
     "metadata": {},
     "output_type": "execute_result"
    }
   ],
   "source": [
    "from IPython.display import YouTubeVideo\n",
    "YouTubeVideo('o6-4g4I6mOg', width = 800, height = 600)\n",
    "# Vidéo explicative de l'Inria d'une version de ce problème (ici, les crêpes ont un sens): Voir à partir de 2min00s"
   ]
  },
  {
   "attachments": {},
   "cell_type": "markdown",
   "metadata": {},
   "source": [
    "Pour faire foncitonner les programmes on propose ici une programmation fonctionnelle des piles.  \n",
    "Cette implémentation repose sur une liste. Elle est compatible avec les primitives données dans l'énoncé:\n",
    "![ennonce_ex_1](https://github.com/ebuonocore/NSIT_99_bachotage/blob/main/NSIT_99a_sujet0_2020_2021_1a3/sources/ex1_primitives_pile.png?raw=true)"
   ]
  },
  {
   "cell_type": "code",
   "execution_count": 22,
   "metadata": {},
   "outputs": [
    {
     "name": "stdout",
     "output_type": "stream",
     "text": [
      "|\t 4 \t|\n",
      "|\t 2 \t|\n",
      "|\t 5 \t|\n",
      "|\t 8 \t|\n"
     ]
    }
   ],
   "source": [
    "def creer_pile_vide():\n",
    "    return [] #Renvoie une liste vide\n",
    "\n",
    "def est_vide(pile):\n",
    "    return len(pile)==0 #Renvoie True si la pile est vide, sinon False\n",
    "\n",
    "def empiler(pile, valeur):\n",
    "    pile.append(valeur) #Ajoute valeur en bout de liste. Ce qui correspond au haut de la pile\n",
    "\n",
    "def depiler(pile):\n",
    "    return pile.pop() #Renvoie le dernier élément de la liste après l'avoir supprimé\n",
    "\n",
    "def afficher(pile):\n",
    "    for i in range(len(pile)): #Parcourt tous les éléments de la liste et les affiche\n",
    "        print('|\\t', pile[-i-1],'\\t|')\n",
    "\n",
    "# Test des primitives et de l'affichage\n",
    "P = creer_pile_vide()\n",
    "empiler(P, 8)\n",
    "empiler(P, 5)\n",
    "empiler(P, 2)\n",
    "empiler(P, 3)\n",
    "depiler(P)\n",
    "empiler(P, 4)\n",
    "afficher(P)"
   ]
  },
  {
   "cell_type": "code",
   "execution_count": 23,
   "metadata": {},
   "outputs": [
    {
     "name": "stdout",
     "output_type": "stream",
     "text": [
      "Contenu de la pile P:\n",
      "Contenu de la pile Q:\n",
      "|\t 8 \t|\n",
      "|\t 5 \t|\n",
      "|\t 2 \t|\n",
      "|\t 4 \t|\n"
     ]
    }
   ],
   "source": [
    "# Question 1\n",
    "Q = creer_pile_vide()\n",
    "while not est_vide(P):\n",
    "    empiler(Q, depiler(P))\n",
    "print(\"Contenu de la pile P:\")\n",
    "afficher(P)\n",
    "print(\"Contenu de la pile Q:\")\n",
    "afficher(Q)"
   ]
  },
  {
   "cell_type": "code",
   "execution_count": 24,
   "metadata": {},
   "outputs": [
    {
     "name": "stdout",
     "output_type": "stream",
     "text": [
      "Hauteur de la pile Q: 4\n"
     ]
    }
   ],
   "source": [
    "# Question 2.1: hauteur_pile()\n",
    "def hauteur_pile (P):\n",
    "    Q = creer_pile_vide()\n",
    "    n = 0\n",
    "    while not (est_vide(P)):\n",
    "        n = n + 1\n",
    "        x = depiler(P)\n",
    "        empiler(Q, x)\n",
    "    while not(est_vide(Q)):\n",
    "        x = depiler(Q)\n",
    "        empiler(P, x)\n",
    "    return n\n",
    "print(\"Hauteur de la pile Q:\",hauteur_pile(Q))"
   ]
  },
  {
   "cell_type": "code",
   "execution_count": 25,
   "metadata": {},
   "outputs": [
    {
     "ename": "IndexError",
     "evalue": "pop from empty list",
     "output_type": "error",
     "traceback": [
      "\u001b[1;31m---------------------------------------------------------------------------\u001b[0m",
      "\u001b[1;31mIndexError\u001b[0m                                Traceback (most recent call last)",
      "\u001b[1;32m<ipython-input-25-7cf93aded874>\u001b[0m in \u001b[0;36m<module>\u001b[1;34m\u001b[0m\n\u001b[0;32m     26\u001b[0m     \u001b[1;32mreturn\u001b[0m \u001b[0mrang_maxi\u001b[0m\u001b[1;33m\u001b[0m\u001b[1;33m\u001b[0m\u001b[0m\n\u001b[0;32m     27\u001b[0m \u001b[1;33m\u001b[0m\u001b[0m\n\u001b[1;32m---> 28\u001b[1;33m \u001b[0mprint\u001b[0m\u001b[1;33m(\u001b[0m\u001b[1;34m\"Maximum des 3 plus hauts éléments de P:\"\u001b[0m\u001b[1;33m,\u001b[0m\u001b[0mmax_pile\u001b[0m\u001b[1;33m(\u001b[0m\u001b[0mP\u001b[0m\u001b[1;33m,\u001b[0m\u001b[1;36m3\u001b[0m\u001b[1;33m)\u001b[0m\u001b[1;33m)\u001b[0m\u001b[1;33m\u001b[0m\u001b[1;33m\u001b[0m\u001b[0m\n\u001b[0m",
      "\u001b[1;32m<ipython-input-25-7cf93aded874>\u001b[0m in \u001b[0;36mmax_pile\u001b[1;34m(P, i)\u001b[0m\n\u001b[0;32m     15\u001b[0m     \u001b[1;31m# On lit tous les éléments jusqu'au i-ième pour trouver le maximum\u001b[0m\u001b[1;33m\u001b[0m\u001b[1;33m\u001b[0m\u001b[1;33m\u001b[0m\u001b[0m\n\u001b[0;32m     16\u001b[0m     \u001b[1;32mwhile\u001b[0m \u001b[0mrang\u001b[0m \u001b[1;33m<=\u001b[0m \u001b[0mi\u001b[0m\u001b[1;33m:\u001b[0m\u001b[1;33m\u001b[0m\u001b[1;33m\u001b[0m\u001b[0m\n\u001b[1;32m---> 17\u001b[1;33m         \u001b[0mx\u001b[0m \u001b[1;33m=\u001b[0m \u001b[0mdepiler\u001b[0m\u001b[1;33m(\u001b[0m\u001b[0mP\u001b[0m\u001b[1;33m)\u001b[0m\u001b[1;33m\u001b[0m\u001b[1;33m\u001b[0m\u001b[0m\n\u001b[0m\u001b[0;32m     18\u001b[0m         \u001b[1;32mif\u001b[0m \u001b[0mx\u001b[0m \u001b[1;33m>\u001b[0m \u001b[0mmaxi\u001b[0m\u001b[1;33m:\u001b[0m\u001b[1;33m\u001b[0m\u001b[1;33m\u001b[0m\u001b[0m\n\u001b[0;32m     19\u001b[0m             \u001b[0mmaxi\u001b[0m \u001b[1;33m=\u001b[0m \u001b[0mx\u001b[0m\u001b[1;33m\u001b[0m\u001b[1;33m\u001b[0m\u001b[0m\n",
      "\u001b[1;32m<ipython-input-22-fe84d2534a4f>\u001b[0m in \u001b[0;36mdepiler\u001b[1;34m(pile)\u001b[0m\n\u001b[0;32m      9\u001b[0m \u001b[1;33m\u001b[0m\u001b[0m\n\u001b[0;32m     10\u001b[0m \u001b[1;32mdef\u001b[0m \u001b[0mdepiler\u001b[0m\u001b[1;33m(\u001b[0m\u001b[0mpile\u001b[0m\u001b[1;33m)\u001b[0m\u001b[1;33m:\u001b[0m\u001b[1;33m\u001b[0m\u001b[1;33m\u001b[0m\u001b[0m\n\u001b[1;32m---> 11\u001b[1;33m     \u001b[1;32mreturn\u001b[0m \u001b[0mpile\u001b[0m\u001b[1;33m.\u001b[0m\u001b[0mpop\u001b[0m\u001b[1;33m(\u001b[0m\u001b[1;33m)\u001b[0m \u001b[1;31m#Renvoie le dernier élément de la liste après l'avoir supprimé\u001b[0m\u001b[1;33m\u001b[0m\u001b[1;33m\u001b[0m\u001b[0m\n\u001b[0m\u001b[0;32m     12\u001b[0m \u001b[1;33m\u001b[0m\u001b[0m\n\u001b[0;32m     13\u001b[0m \u001b[1;32mdef\u001b[0m \u001b[0mafficher\u001b[0m\u001b[1;33m(\u001b[0m\u001b[0mpile\u001b[0m\u001b[1;33m)\u001b[0m\u001b[1;33m:\u001b[0m\u001b[1;33m\u001b[0m\u001b[1;33m\u001b[0m\u001b[0m\n",
      "\u001b[1;31mIndexError\u001b[0m: pop from empty list"
     ]
    }
   ],
   "source": [
    "# Question 2.2: max_pile()\n",
    "empiler(P, 8)\n",
    "empiler(P, 5)\n",
    "empiler(P, 2)\n",
    "empiler(P, 4)\n",
    "\n",
    "def max_pile(P, i):\n",
    "    assert i <= hauteur_pile(P), \"La pile compte moins de i éléments\"\n",
    "    # Initialisation\n",
    "    rang = 1 # L'indice de l'élément en cours de traitement\n",
    "    rang_maxi = 1 # le rang du maximum en cours\n",
    "    maxi = depiler(P) # au début, le maximum est le premier élément ...\n",
    "    empiler(P, maxi) # ... que l'on rempile immédiatement\n",
    "    Q = creer_pile_vide() # une pile vide pour stocker les éléments traités\n",
    "    # On lit tous les éléments jusqu'au i-ième pour trouver le maximum\n",
    "    while rang <= i:\n",
    "        x = depiler(P)\n",
    "        if x > maxi:\n",
    "            maxi = x\n",
    "            rang_maxi = rang\n",
    "            empiler(Q, x)\n",
    "            rang += 1\n",
    "    # On reconstitue la pile P\n",
    "    while not(est_vide(Q)):\n",
    "        empiler(P, depiler(Q))\n",
    "    return rang_maxi\n",
    "\n",
    "print(\"Maximum des 3 plus hauts éléments de P:\",max_pile(P,3))"
   ]
  },
  {
   "cell_type": "code",
   "execution_count": null,
   "metadata": {},
   "outputs": [],
   "source": [
    "# Question 3: retrouner()\n",
    "def retourner(P, j):\n",
    "    assert j <= hauteur_pile(P), \"La pile compte moins de j éléments\"\n",
    "    # Initialisation\n",
    "    Q = creer_pile_vide() # une pile vide pour vider P\n",
    "    R = creer_pile_vide() # une pile vide pour vider Q\n",
    "    rang = 1 # le rang de l'élément en cours de traitement\n",
    "    # On dépile les j premiers éléments dans Q\n",
    "    while rang <= j:\n",
    "        empiler(Q, depiler(P))\n",
    "        rang += 1\n",
    "    # On vide Q dans R\n",
    "    while not(est_vide(Q)):\n",
    "        empiler(R, depiler(Q))\n",
    "    # On vide R dans P\n",
    "    while not(est_vide(R)):\n",
    "        empiler(P, depiler(R))\n",
    "    # La fonction ne renvoie rien (en réalité None en python)\n",
    "    # On peut tout aussi bien se passer de retour\n",
    "    # ce qui aura le même effet lors de l'exécution\n",
    "    return None"
   ]
  },
  {
   "cell_type": "code",
   "execution_count": null,
   "metadata": {},
   "outputs": [],
   "source": [
    "# Question 4: tri_crepes()\n",
    "def tri_crepes(P) :\n",
    "    assert not est_vide(P), \"Il n'y a pas de crêpes à trier !\"\n",
    "    h = hauteur_pile(P)\n",
    "    for i in range(0, h-1):\n",
    "        rang_maxi = max_pile(P, h-i)\n",
    "        retourner(P, rang_maxi)\n",
    "        retourner(P, h-i)\n",
    "    # La fonction ne renvoie rien (en réalité None en python)\n",
    "    # On peut tout aussi bien se passer de retour\n",
    "    # ce qui aura le même effet lors de l'exécution\n",
    "    return None"
   ]
  },
  {
   "cell_type": "code",
   "execution_count": null,
   "metadata": {},
   "outputs": [],
   "source": []
  },
  {
   "cell_type": "markdown",
   "metadata": {},
   "source": [
    "<div id=\"ex2\"></div>\n",
    "\n",
    "## Exercice 2:  Optimisation d'une somme (chemins dans un taleau)\n",
    "\n",
    "-"
   ]
  },
  {
   "cell_type": "code",
   "execution_count": null,
   "metadata": {},
   "outputs": [],
   "source": []
  },
  {
   "cell_type": "code",
   "execution_count": null,
   "metadata": {},
   "outputs": [],
   "source": []
  },
  {
   "cell_type": "markdown",
   "metadata": {},
   "source": [
    "<div id=\"ex3\"></div>\n",
    "\n",
    "## Exercice 3: Arbres binaires et ABR(Implémentation avec un tableau\n",
    "\n",
    "-"
   ]
  },
  {
   "cell_type": "code",
   "execution_count": null,
   "metadata": {},
   "outputs": [],
   "source": []
  },
  {
   "cell_type": "code",
   "execution_count": null,
   "metadata": {},
   "outputs": [],
   "source": []
  },
  {
   "cell_type": "markdown",
   "metadata": {},
   "source": [
    "---\n",
    "<p style=\"font-family:Comic Sans MS; text-align: center; color:gray; font-size: x-small; \">- Eric Buonocore. Janvier 2021 -<br></p>\n",
    "\n",
    "![Licence CC BY NC SA](https://licensebuttons.net/l/by-nc-sa/3.0/88x31.png)"
   ]
  },
  {
   "cell_type": "code",
   "execution_count": null,
   "metadata": {},
   "outputs": [],
   "source": []
  }
 ],
 "metadata": {
  "kernelspec": {
   "display_name": "Python 3",
   "language": "python",
   "name": "python3"
  },
  "language_info": {
   "codemirror_mode": {
    "name": "ipython",
    "version": 3
   },
   "file_extension": ".py",
   "mimetype": "text/x-python",
   "name": "python",
   "nbconvert_exporter": "python",
   "pygments_lexer": "ipython3",
   "version": "3.7.3"
  }
 },
 "nbformat": 4,
 "nbformat_minor": 4
}
